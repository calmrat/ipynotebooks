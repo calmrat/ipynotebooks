{
 "metadata": {
  "name": "",
  "signature": "sha256:c7846cf74b3193be485118b779fe6dc637676d0c7e116ed2102760f751d052f0"
 },
 "nbformat": 3,
 "nbformat_minor": 0,
 "worksheets": [
  {
   "cells": [
    {
     "cell_type": "code",
     "collapsed": false,
     "input": [
      "# Author: Chris Ward @ https://bit.ly/cward_kejbaly2\n",
      "# License: MIT\n",
      "\n",
      "from datetime import date\n",
      "import requests as rq\n",
      "import pandas as pd\n",
      "import numpy as np\n",
      "import matplotlib.pyplot as plt\n",
      "\n",
      "%pylab inline\n",
      "%matplotlib\n",
      "\n",
      "def date_conv(c):\n",
      "    # source data comes with strange dates\n",
      "    # this converts them to datetime.date()s\n",
      "    y, m = c.split('M')\n",
      "    d = date(int(y), int(m), 1)\n",
      "    return d\n",
      "\n",
      "def download_file(url):\n",
      "    # adapted from src: http://stackoverflow.com/a/16696317\n",
      "    local_filename = url.split('/')[-1]\n",
      "    # NOTE the stream=True parameter\n",
      "    r = rq.get(url, stream=True)\n",
      "    with open(local_filename, 'wb') as f:\n",
      "        for chunk in r.iter_content(chunk_size=1024): \n",
      "            if chunk: # filter out keep-alive new chunks\n",
      "                f.write(chunk)\n",
      "                f.flush()\n",
      "    return local_filename\n",
      "\n",
      "red = lambda x: '\\x1b[31m{}\\x1b[0m'.format(x)  # colorized output"
     ],
     "language": "python",
     "metadata": {},
     "outputs": []
    },
    {
     "cell_type": "code",
     "collapsed": false,
     "input": [
      "# this is an ever extending source file; new row added **monthly**\n",
      "xls_url = 'http://www.imf.org/external/np/res/commod/External_Data.xls'\n",
      "xls_file = download_file(xls_url)\n",
      "# row 1 is blank\n",
      "# row 2 - 7... not useful?\n",
      "# row 6 is data (type) description\n",
      "# row 8 is the header\n",
      "xls = pd.read_excel(xls_file, 'ExternalData', skiprows=7)\n",
      "# copy and \"drop\" row 9, the description row\n",
      "descriptions = xls.ix[:1]\n",
      "xls = xls.ix[1:]\n",
      "\n",
      "# convert dates from yyyyMmm -> datetime.date(y, m, 1)\n",
      "xls['Series_Code'] = ix = xls['Series_Code'].map(date_conv)\n",
      "\n",
      "# reset index to dates\n",
      "xls = xls.set_index(ix)\n",
      "# py27 has rounding issues... csv (string) output results in long decimals"
     ],
     "language": "python",
     "metadata": {},
     "outputs": []
    },
    {
     "cell_type": "code",
     "collapsed": false,
     "input": [
      "# export to csv\n",
      "xls.to_csv('/tmp/out.csv')"
     ],
     "language": "python",
     "metadata": {},
     "outputs": []
    },
    {
     "cell_type": "code",
     "collapsed": false,
     "input": [
      "# print out Commodity Index Key Descriptions\n",
      "_d = descriptions.to_dict()\n",
      "d = {k: v[0] for k,v in _d.iteritems()}\n",
      "for commodity, desc in d.iteritems():\n",
      "    print '{:13s}: {}'.format(red(commodity), desc)"
     ],
     "language": "python",
     "metadata": {},
     "outputs": []
    },
    {
     "cell_type": "code",
     "collapsed": false,
     "input": [],
     "language": "python",
     "metadata": {},
     "outputs": []
    }
   ],
   "metadata": {}
  }
 ]
}